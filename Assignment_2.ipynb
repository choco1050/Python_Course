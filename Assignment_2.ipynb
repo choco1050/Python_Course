{
 "cells": [
  {
   "cell_type": "markdown",
   "metadata": {},
   "source": [
    "## Second Assignment"
   ]
  },
  {
   "cell_type": "markdown",
   "metadata": {},
   "source": [
    "#### 1) Create a function called **\"even_squared\"** that receives an integer value **N**, and returns a list containing, in ascending order, the square of each of the even values, from 1 to N, including N if applicable. "
   ]
  },
  {
   "cell_type": "code",
   "execution_count": 2,
   "metadata": {},
   "outputs": [],
   "source": [
    "def even_squared(N):\n",
    "    s = []\n",
    "    for n in range(1, N): \n",
    "        n = n **2\n",
    "        s.append(n)\n",
    "    \n",
    "    return s\n",
    "        \n"
   ]
  },
  {
   "cell_type": "markdown",
   "metadata": {},
   "source": [
    "#### 2) Using a while loop and the **input()** function, read an indefinite amount of **integers** until the number read is **-1**. After this process, print two lists on the screen: The first containing the even integers, and the second containing the odd integers. Both must be in ascending order. "
   ]
  },
  {
   "cell_type": "code",
   "execution_count": 5,
   "metadata": {},
   "outputs": [],
   "source": [
    "def infinite(*args):\n",
    "    numbers = []\n",
    "    even = []\n",
    "    odd = []\n",
    "    while(args > -1): \n",
    "        numbers = input()\n",
    "    for i in numbers:\n",
    "        if i%2 == 0:\n",
    "            even.append(i)\n",
    "        else: \n",
    "            odd.append(i)\n",
    "    \n",
    "    return even.sort()\n",
    "    return odd.sort()"
   ]
  },
  {
   "cell_type": "markdown",
   "metadata": {},
   "source": [
    "#### 3) Create a function called **\"even_account\"** that receives a list of integers, counts the number of existing even elements, and returns this count. "
   ]
  },
  {
   "cell_type": "code",
   "execution_count": 6,
   "metadata": {},
   "outputs": [],
   "source": [
    "def even_account(integers):\n",
    "    integers = []\n",
    "    even = []\n",
    "    n = int(input(\"Enter as many integers as you wish: \"))\n",
    "    for i in range(0, n):\n",
    "        \n",
    "        ele = int(input())\n",
    "  \n",
    "    integers.append(ele) # adding the element\n",
    "      \n",
    "    for el in integers: \n",
    "        if el%2 == 0: even.append(el)\n",
    "    \n",
    "    return even\n",
    "        "
   ]
  },
  {
   "cell_type": "markdown",
   "metadata": {},
   "source": [
    "#### 4) Create a function called **\"squared_list\"** that receives a list of integers and returns another list whose elements are the squares of the elements of the first. "
   ]
  },
  {
   "cell_type": "code",
   "execution_count": 7,
   "metadata": {},
   "outputs": [],
   "source": [
    "def squared_list(irs):\n",
    "    irs = []\n",
    "    squared = []\n",
    "    n = int(input(\"Enter a list of integers:  \"))\n",
    "    \n",
    "    for z in range(0,n):\n",
    "        els = int(input())\n",
    "        \n",
    "    irs.append(els)\n",
    "    \n",
    "    for e in irs:\n",
    "        e = e**2\n",
    "        squared.append(e)\n",
    "        \n",
    "    return squared"
   ]
  },
  {
   "cell_type": "markdown",
   "metadata": {},
   "source": [
    "#### 5) Create a function called **\"descending\"** that receives two lists of integers and returns a single list, which contains all the elements in descending order, and may include repeated elements. "
   ]
  },
  {
   "cell_type": "code",
   "execution_count": 8,
   "metadata": {},
   "outputs": [],
   "source": [
    "def descending(list1, list2):\n",
    "    list1 = []\n",
    "    list2 = []\n",
    "    list1 = [int(item) for item in input(\"Enter the first list items : \").split()]\n",
    "    list2 = [int(item) for item in input(\"Enter the second list items : \").split()]\n",
    "    final_list = list1 + list2\n",
    "    final_list.sort(reverse = True)\n",
    "    return final_list"
   ]
  },
  {
   "cell_type": "markdown",
   "metadata": {},
   "source": [
    "#### 6) Create a function called **\"adding\"** that receives a list **A**, and an arbitrary number of integers as input. Return a new list containing the elements of **A** plus the integers passed as input, in the order in which they were given. Here is an example: \n",
    "\n",
    ">```python\n",
    ">>>> A = [10,20,30]\n",
    ">>>> adding(A, 4, 10, 50, 1)\n",
    "> [10, 20, 30, 4, 10, 50, 1]\n",
    "```"
   ]
  },
  {
   "cell_type": "code",
   "execution_count": 9,
   "metadata": {},
   "outputs": [],
   "source": [
    "def adding(A, *args):\n",
    "    A = []\n",
    "    B = []\n",
    "    new_list = []\n",
    "    \n",
    "    A = [int(it) for it in input(\"Enter the list A:  \").split()]\n",
    "    for arg in args:\n",
    "        B.append(arg)\n",
    "        \n",
    "    new_list = A + B\n",
    "    \n",
    "    return new_list\n",
    "    "
   ]
  },
  {
   "cell_type": "markdown",
   "metadata": {},
   "source": [
    "#### 7) Create a function called **\"intersection\"** that receives two input lists and returns another list with the values that belong to the two lists simultaneously (intersection) without repetition of values and in ascending order. Use only lists (do not use sets); loops and conditionals. See the example: \n",
    "\n",
    ">```python\n",
    ">>>> A = [-2, 0, 1, 2, 3]\n",
    ">>>> B = [-1, 2, 3, 6, 8]\n",
    ">>>> intersection(A,B)\n",
    "> [2, 3]\n",
    "```"
   ]
  },
  {
   "cell_type": "code",
   "execution_count": 11,
   "metadata": {},
   "outputs": [],
   "source": [
    "def intersection(A, B):\n",
    "    A = []\n",
    "    B = []\n",
    "    intersect = []\n",
    "    A = [int(item) for item in input(\"Enter the first list items : \").split()]\n",
    "    B = [int(item) for item in input(\"Enter the second list items : \").split()]\n",
    "    \n",
    "    for a in range(0, len(A)):\n",
    "        for b in range(0, len(B)):\n",
    "            if a == b: intersect.append(a)\n",
    "                \n",
    "    intersect.sort()\n",
    "    final = list(dict.fromkeys(intersect))\n",
    "    \n",
    "    return final\n",
    "            \n",
    "    "
   ]
  },
  {
   "cell_type": "markdown",
   "metadata": {},
   "source": [
    "#### 8) Create a function called **\"union\"** that receives two input lists and returns another list with the union of the elements of the two received, without repetition of elements and in ascending order. Use only lists (do not use sets); loops and conditionals. See the example: \n",
    "\n",
    ">```python\n",
    ">>>> A = [-2, 0, 1, 2]\n",
    ">>>> B = [-1, 1, 2, 10]\n",
    ">>>> union(A,B)\n",
    "> [-2, ,-1, 0, 1, 2, 10]\n",
    "```"
   ]
  },
  {
   "cell_type": "code",
   "execution_count": 12,
   "metadata": {},
   "outputs": [],
   "source": [
    "def union(A, B):\n",
    "    A = []\n",
    "    B = []\n",
    "    union = []\n",
    "    A = [int(item) for item in input(\"Enter the first list items : \").split()]\n",
    "    B = [int(item) for item in input(\"Enter the second list items : \").split()]\n",
    "    \n",
    "    union = A + B\n",
    "    union.sort()\n",
    "    final_list = list(dict.fromkeys(union))\n",
    "    \n",
    "    return final_list"
   ]
  },
  {
   "cell_type": "markdown",
   "metadata": {},
   "source": [
    "#### 9) Generalize the **\"intersection\"** function so that it receives an indefinite number of lists and returns the intersection of all of them. Call the new function **intersection2**. "
   ]
  },
  {
   "cell_type": "code",
   "execution_count": 16,
   "metadata": {},
   "outputs": [],
   "source": [
    "def intersection1(*args):\n",
    "    lists = []\n",
    "    result = []\n",
    "    for arg in args:\n",
    "        x = arg.split(\"; \")\n",
    "        lists.append(x)\n",
    "        \n",
    "    for l in range(0, len(lists)): \n",
    "        result = [sub_list for sub_list in lists[l] if sub_list in lists[l+1]]\n",
    "        \n",
    "    result.sort()\n",
    "    final = list(dict.fromkeys(result))\n",
    "    \n",
    "    return final\n",
    "    "
   ]
  },
  {
   "cell_type": "markdown",
   "metadata": {},
   "source": [
    "## Challenge\n",
    "\n",
    "#### 10) Create a function named **\"matrix\"** that implements matrix multiplication:\n",
    "    \n",
    "Given the matrices:\n",
    "    \n",
    "$A_{m\\times n}=\n",
    "\\left[\\begin{matrix}\n",
    "a_{11}&a_{12}&...&a_{1n}\\\\\n",
    "a_{21}&a_{22}&...&a_{2n}\\\\\n",
    "\\vdots &\\vdots &&\\vdots\\\\\n",
    "a_{m1}&a_{m2}&...&a_{mn}\\\\\n",
    "\\end{matrix}\\right]$\n",
    "    \n",
    "We will represent then as a list of lists.\n",
    "\n",
    "$A = [[a_{11},a_{12},...,a_{1n}],[a_{21},a_{22},...,a_{2n}], . . . ,[a_{m1},a_{m2},...,a_{mn}]]$\n",
    "\n",
    "The **\"matrix\"** funtion must receive two matrices $A$ e $B$ in the specified format and return $A\\times B$"
   ]
  },
  {
   "cell_type": "code",
   "execution_count": null,
   "metadata": {},
   "outputs": [],
   "source": []
  }
 ],
 "metadata": {
  "kernelspec": {
   "display_name": "Python 3",
   "language": "python",
   "name": "python3"
  },
  "language_info": {
   "codemirror_mode": {
    "name": "ipython",
    "version": 3
   },
   "file_extension": ".py",
   "mimetype": "text/x-python",
   "name": "python",
   "nbconvert_exporter": "python",
   "pygments_lexer": "ipython3",
   "version": "3.8.5"
  }
 },
 "nbformat": 4,
 "nbformat_minor": 4
}
